{
  "nbformat": 4,
  "nbformat_minor": 0,
  "metadata": {
    "colab": {
      "provenance": [],
      "gpuType": "T4"
    },
    "kernelspec": {
      "name": "python3",
      "display_name": "Python 3"
    },
    "language_info": {
      "name": "python"
    },
    "accelerator": "GPU"
  },
  "cells": [
    {
      "cell_type": "code",
      "execution_count": null,
      "metadata": {
        "id": "Bf4mhIePGe_w"
      },
      "outputs": [],
      "source": [
        "import numpy as np\n",
        "import pandas as pd\n",
        "import matplotlib.pyplot as plt\n",
        "import seaborn as sns\n",
        "import warnings\n",
        "import datetime\n",
        "import seaborn as sns\n",
        "from sklearn.preprocessing import MinMaxScaler\n",
        "from sklearn.decomposition import PCA\n",
        "from sklearn.model_selection import train_test_split\n",
        "from tensorflow.keras import Sequential\n",
        "from tensorflow.keras.layers import Dense\n",
        "from tensorflow.keras.layers import LSTM\n",
        "from sklearn.metrics import r2_score"
      ]
    },
    {
      "cell_type": "code",
      "source": [
        "data = pd.read_csv('Google_Stock_Price_Train.csv',thousands=',')\n",
        "data"
      ],
      "metadata": {
        "id": "D5pSEv5LOOA4"
      },
      "execution_count": null,
      "outputs": []
    },
    {
      "cell_type": "code",
      "source": [
        "ax1 = data.plot(x=\"Date\", y=[\"Open\", \"High\", \"Low\", \"Close\"], figsize=(10,7),title='Open, High, Low, Close Stock Prices of Google Stocks')\n",
        "ax1.set_ylabel(\"Stock Price\")\n",
        "\n",
        "ax2 = data.plot(x=\"Date\", y=[\"Volume\"],  figsize=(10,7))\n",
        "ax2.set_ylabel(\"Stock Volume\")"
      ],
      "metadata": {
        "id": "Kmq3ccw-OryV"
      },
      "execution_count": null,
      "outputs": []
    },
    {
      "cell_type": "code",
      "source": [
        "data.isna().sum()"
      ],
      "metadata": {
        "id": "bUCKw99QO-hh"
      },
      "execution_count": null,
      "outputs": []
    },
    {
      "cell_type": "code",
      "source": [
        "data[['Open','High','Low','Close','Volume']].plot(kind='box', layout=(1,5), subplots=True, sharex=False, sharey=False, figsize=(10,7),color='red')\n",
        "plt.show()"
      ],
      "metadata": {
        "id": "pYvINTMYPOxJ"
      },
      "execution_count": null,
      "outputs": []
    },
    {
      "cell_type": "code",
      "source": [
        "data.hist(figsize=(10,7))\n",
        "plt.show()"
      ],
      "metadata": {
        "id": "KoAodDX0PXRh"
      },
      "execution_count": null,
      "outputs": []
    },
    {
      "cell_type": "code",
      "source": [
        "scaler = MinMaxScaler()\n",
        "data_without_date = data.drop(\"Date\", axis=1)\n",
        "scaled_data = pd.DataFrame(scaler.fit_transform(data_without_date))"
      ],
      "metadata": {
        "id": "dNdbbcjTPbSN"
      },
      "execution_count": null,
      "outputs": []
    },
    {
      "cell_type": "code",
      "source": [
        "scaled_data.hist(figsize=(10,7))\n",
        "plt.show()"
      ],
      "metadata": {
        "id": "apX6dH1WP1qC"
      },
      "execution_count": null,
      "outputs": []
    },
    {
      "cell_type": "code",
      "source": [
        "plt.figure(figsize=(10,7))\n",
        "sns.heatmap(data.drop(\"Date\", axis=1).corr())\n",
        "plt.show()"
      ],
      "metadata": {
        "id": "4B3Sa4mLP5BV"
      },
      "execution_count": null,
      "outputs": []
    },
    {
      "cell_type": "code",
      "source": [
        "scaled_data = scaled_data.drop([0, 2, 3], axis=1)\n",
        "scaled_data"
      ],
      "metadata": {
        "id": "cAhR9tvEQEC4"
      },
      "execution_count": null,
      "outputs": []
    },
    {
      "cell_type": "code",
      "source": [
        "def split_seq_multivariate(sequence, n_past, n_future):\n",
        "\n",
        "    '''\n",
        "    n_past ==> no of past observations\n",
        "    n_future ==> no of future observations\n",
        "    '''\n",
        "    x = []\n",
        "    y = []\n",
        "    for window_start in range(len(sequence)):\n",
        "        past_end = window_start + n_past\n",
        "        future_end = past_end + n_future\n",
        "        if future_end > len(sequence):\n",
        "            break\n",
        "        # slicing the past and future parts of the window (this indexing is for 2 features vala data only)\n",
        "        past = sequence[window_start:past_end, :]\n",
        "        future = sequence[past_end:future_end, -1]\n",
        "        x.append(past)\n",
        "        y.append(future)\n",
        "\n",
        "    return np.array(x), np.array(y)"
      ],
      "metadata": {
        "id": "qtI2MRHzQZjb"
      },
      "execution_count": null,
      "outputs": []
    },
    {
      "cell_type": "code",
      "source": [
        "n_steps = 60\n",
        "\n",
        "scaled_data = scaled_data.to_numpy()\n",
        "scaled_data.shape"
      ],
      "metadata": {
        "id": "2iYkyQotRI-x"
      },
      "execution_count": null,
      "outputs": []
    },
    {
      "cell_type": "code",
      "source": [
        "x, y = split_seq_multivariate(scaled_data, n_steps, 1)"
      ],
      "metadata": {
        "id": "Bw_4WcPmRM2S"
      },
      "execution_count": null,
      "outputs": []
    },
    {
      "cell_type": "code",
      "source": [
        "x.shape, y.shape"
      ],
      "metadata": {
        "id": "WikZASOtRP9x"
      },
      "execution_count": null,
      "outputs": []
    },
    {
      "cell_type": "code",
      "source": [
        "y = y[:, 0]\n",
        "y.shape"
      ],
      "metadata": {
        "id": "B8ycqNAcRRgr"
      },
      "execution_count": null,
      "outputs": []
    },
    {
      "cell_type": "code",
      "source": [
        "x_train, x_test, y_train, y_test = train_test_split(x, y,test_size=0.2, random_state=42)\n",
        "\n",
        "x_train.shape, x_test.shape, y_train.shape, y_test.shape"
      ],
      "metadata": {
        "id": "vklahOC7RbTv"
      },
      "execution_count": null,
      "outputs": []
    },
    {
      "cell_type": "code",
      "source": [
        "model = Sequential()\n",
        "model.add(LSTM(612, input_shape=(n_steps, 2)))\n",
        "model.add(Dense(50, activation='relu'))\n",
        "model.add(Dense(50, activation='relu'))\n",
        "model.add(Dense(30, activation='relu'))\n",
        "model.add(Dense(1))"
      ],
      "metadata": {
        "id": "FS68WMTrRp61"
      },
      "execution_count": null,
      "outputs": []
    },
    {
      "cell_type": "code",
      "source": [
        "model.summary()"
      ],
      "metadata": {
        "id": "DMHmdOOoRvO6"
      },
      "execution_count": null,
      "outputs": []
    },
    {
      "cell_type": "code",
      "source": [
        "model.compile(optimizer='adam', loss='mse', metrics=['mae'])"
      ],
      "metadata": {
        "id": "3sw68oX8Rx3O"
      },
      "execution_count": null,
      "outputs": []
    },
    {
      "cell_type": "code",
      "source": [
        "history = model.fit(x_train, y_train, epochs=250, batch_size=32, verbose=2, validation_data=(x_test, y_test))"
      ],
      "metadata": {
        "id": "Vfjuz52USDc_"
      },
      "execution_count": null,
      "outputs": []
    },
    {
      "cell_type": "code",
      "source": [
        "pd.DataFrame(history.history).plot(figsize=(10,7))"
      ],
      "metadata": {
        "id": "HjJNDfdASHor"
      },
      "execution_count": null,
      "outputs": []
    },
    {
      "cell_type": "code",
      "source": [
        "model.evaluate(x_test, y_test)"
      ],
      "metadata": {
        "id": "76FcEHHvSXAb"
      },
      "execution_count": null,
      "outputs": []
    },
    {
      "cell_type": "code",
      "source": [
        "predictions = model.predict(x_test)\n",
        "predictions.shape"
      ],
      "metadata": {
        "id": "n2wMeoy7TbAd"
      },
      "execution_count": null,
      "outputs": []
    },
    {
      "cell_type": "code",
      "source": [
        "plt.plot(y_test, c = 'r')\n",
        "plt.plot(predictions, c = 'y')\n",
        "plt.xlabel('Day')\n",
        "plt.ylabel('Stock Price Volume')\n",
        "plt.title('Stock Price Volume Prediction Graph using RNN (LSTM)')\n",
        "plt.legend(['Actual','Predicted'], loc = 'lower right')\n",
        "plt.figure(figsize=(10,7))\n",
        "plt.show()"
      ],
      "metadata": {
        "id": "ePfr_NCLTh76"
      },
      "execution_count": null,
      "outputs": []
    }
  ]
}